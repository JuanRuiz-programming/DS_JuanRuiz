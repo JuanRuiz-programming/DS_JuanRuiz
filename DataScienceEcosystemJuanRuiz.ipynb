{
 "cells": [
  {
   "cell_type": "code",
   "execution_count": null,
   "id": "d913b35e-ca1f-4592-a66e-0e8fdeb21999",
   "metadata": {},
   "outputs": [],
   "source": [
    "# Data Science Tools and Ecosystem"
   ]
  },
  {
   "cell_type": "markdown",
   "id": "37b0662c-5812-42e6-933c-31f938eb33d1",
   "metadata": {},
   "source": [
    "In this notebook, Data Science Tools and Ecosystem are summarized."
   ]
  },
  {
   "cell_type": "markdown",
   "id": "27e98636-43c6-4c18-9c0c-441f7802363b",
   "metadata": {},
   "source": [
    "Some of the popular languages that Data Scientists use are:\n",
    "1. Python\n",
    "2. R\n",
    "3. SQL"
   ]
  },
  {
   "cell_type": "markdown",
   "id": "7b92332a-ee58-4b34-aaf0-75b7a80f8d21",
   "metadata": {},
   "source": [
    "Some of the commonly used libraries used by Data Scientists include:\n",
    "1. Pandas\n",
    "2. Numpy\n",
    "3. ggplot"
   ]
  },
  {
   "cell_type": "markdown",
   "id": "ca546537-ff72-4733-963d-8b449bc9e9df",
   "metadata": {},
   "source": [
    "| Data Science Tools |\n",
    "| ----------- |\n",
    "| Visual Studio Code |\n",
    "| R Studio |\n",
    "| MySQL |"
   ]
  },
  {
   "cell_type": "markdown",
   "id": "294201e0-5e2c-44f5-a340-bdf5dbda6ebe",
   "metadata": {},
   "source": [
    "### Below are a few examples of evaluating arithmetic expressions in Python"
   ]
  },
  {
   "cell_type": "code",
   "execution_count": 1,
   "id": "a554e2de-e219-471e-8486-c4676cb24ffb",
   "metadata": {
    "tags": []
   },
   "outputs": [
    {
     "data": {
      "text/plain": [
       "17"
      ]
     },
     "execution_count": 1,
     "metadata": {},
     "output_type": "execute_result"
    }
   ],
   "source": [
    "(3*4)+5\n",
    "# This a simple arithmetic expression to mutiply then add integers"
   ]
  },
  {
   "cell_type": "code",
   "execution_count": 2,
   "id": "f14aef29-1efb-4d11-a891-96772e0360b9",
   "metadata": {
    "tags": []
   },
   "outputs": [
    {
     "data": {
      "text/plain": [
       "3.3333333333333335"
      ]
     },
     "execution_count": 2,
     "metadata": {},
     "output_type": "execute_result"
    }
   ],
   "source": [
    "200/60\n",
    "# This will convert 200 minutes to hours by diving by 60"
   ]
  },
  {
   "cell_type": "markdown",
   "id": "d39b2d1d-5daf-4403-a771-6c2db2d557cc",
   "metadata": {},
   "source": [
    "### *Objectives:*\n",
    "- Data science tools\n",
    "- Popular languages used for Data Science\n",
    "- Popular libraries for Data Science\n",
    "- Basic arithmetic operations"
   ]
  },
  {
   "cell_type": "markdown",
   "id": "3030454b-242f-4303-a947-85bbfed5d085",
   "metadata": {},
   "source": [
    "## Author:\n",
    "Juan Ruiz"
   ]
  }
 ],
 "metadata": {
  "kernelspec": {
   "display_name": "Python",
   "language": "python",
   "name": "conda-env-python-py"
  },
  "language_info": {
   "codemirror_mode": {
    "name": "ipython",
    "version": 3
   },
   "file_extension": ".py",
   "mimetype": "text/x-python",
   "name": "python",
   "nbconvert_exporter": "python",
   "pygments_lexer": "ipython3",
   "version": "3.7.12"
  }
 },
 "nbformat": 4,
 "nbformat_minor": 5
}
