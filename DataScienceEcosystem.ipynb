{
 "cells": [
  {
   "cell_type": "markdown",
   "id": "2dba77e4-3dc1-4f26-b153-f1a00e2648f5",
   "metadata": {},
   "source": [
    "## Data Science Tools and Ecosystem"
   ]
  },
  {
   "cell_type": "markdown",
   "id": "988a2ed5-239c-4b5f-9272-32b2efb0d8f0",
   "metadata": {},
   "source": [
    "In this notebook, Data Science Tools and Ecosystem are summarized."
   ]
  },
  {
   "cell_type": "markdown",
   "id": "13016734-86d5-4758-aa06-2b052015e217",
   "metadata": {},
   "source": [
    "Some of the popular languages that Data Scientists use are:\n",
    "1. Python\n",
    "2. R\n",
    "3. SQL"
   ]
  },
  {
   "cell_type": "markdown",
   "id": "788e4250-0a7f-4b4c-9fd1-7c4dfedaddfa",
   "metadata": {},
   "source": [
    "Some of the commonly used libraries used by Data Scientists include:\n",
    "1. Matplotlib\n",
    "2. Pandas\n",
    "3. Numpy"
   ]
  },
  {
   "cell_type": "markdown",
   "id": "c809ac79-da5c-43f6-86f5-3020008a7148",
   "metadata": {},
   "source": [
    "| Tools |\n",
    "| --- |\n",
    "| VS code |\n",
    "| Jupyter |\n",
    "| R Studio |"
   ]
  },
  {
   "cell_type": "markdown",
   "id": "649fdd3c-d778-41d4-8b5f-134041f42d23",
   "metadata": {},
   "source": [
    "**Objectives:**\n",
    "- Learn about Data science and process\n",
    "- Learn about tools\n",
    "- Learn about data science approaches"
   ]
  },
  {
   "cell_type": "markdown",
   "id": "8101f9db-9ba9-4e9c-8187-ec14e897daa0",
   "metadata": {},
   "source": [
    "### Below are a few examples of evaluating arithmetic expressions in Python"
   ]
  },
  {
   "cell_type": "code",
   "execution_count": 1,
   "id": "ef528a83-83a8-4f10-957a-af61ace481d5",
   "metadata": {
    "tags": []
   },
   "outputs": [
    {
     "data": {
      "text/plain": [
       "17"
      ]
     },
     "execution_count": 1,
     "metadata": {},
     "output_type": "execute_result"
    }
   ],
   "source": [
    "(3*4)+5\n",
    "# This a simple arithmetic expression to mutiply then add integers."
   ]
  },
  {
   "cell_type": "code",
   "execution_count": 2,
   "id": "66dd72ed-84f2-42f7-a88d-94669c8a15ed",
   "metadata": {
    "tags": []
   },
   "outputs": [
    {
     "data": {
      "text/plain": [
       "3.3333333333333335"
      ]
     },
     "execution_count": 2,
     "metadata": {},
     "output_type": "execute_result"
    }
   ],
   "source": [
    "200/60\n",
    "# This will convert 200 minutes to hours by diving by 60"
   ]
  },
  {
   "cell_type": "markdown",
   "id": "8df91905-7da3-4f15-ad07-21a4299a743e",
   "metadata": {},
   "source": [
    "## Author: Juan Ruiz"
   ]
  },
  {
   "cell_type": "code",
   "execution_count": null,
   "id": "107b9df6-e8ba-456f-9fd9-d1bf155923b0",
   "metadata": {},
   "outputs": [],
   "source": []
  }
 ],
 "metadata": {
  "kernelspec": {
   "display_name": "Python",
   "language": "python",
   "name": "conda-env-python-py"
  },
  "language_info": {
   "codemirror_mode": {
    "name": "ipython",
    "version": 3
   },
   "file_extension": ".py",
   "mimetype": "text/x-python",
   "name": "python",
   "nbconvert_exporter": "python",
   "pygments_lexer": "ipython3",
   "version": "3.7.12"
  }
 },
 "nbformat": 4,
 "nbformat_minor": 5
}
